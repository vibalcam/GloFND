{
 "cells": [
  {
   "cell_type": "code",
   "execution_count": null,
   "metadata": {},
   "outputs": [],
   "source": [
    "import os\n",
    "os.chdir('..')"
   ]
  },
  {
   "cell_type": "code",
   "execution_count": null,
   "metadata": {},
   "outputs": [],
   "source": [
    "import torch\n",
    "import numpy as np\n",
    "import pandas as pd\n",
    "from scipy.stats import ttest_rel"
   ]
  },
  {
   "cell_type": "code",
   "execution_count": null,
   "metadata": {},
   "outputs": [],
   "source": [
    "baseline_path = 'results/transfer/baseline.pt'\n",
    "paths = {\n",
    "    'glofnd': 'results/transfer/glofnd.pt',\n",
    "    'fnd': 'results/transfer/fnd.pt',\n",
    "}"
   ]
  },
  {
   "cell_type": "code",
   "execution_count": null,
   "metadata": {},
   "outputs": [],
   "source": [
    "baseline = torch.load(baseline_path)\n",
    "baseline_means = {k: np.mean(v).round(2) if isinstance(v, list) else v for k, v in baseline.items()}\n",
    "baseline_d = {k: f\"{np.mean(v).round(2)} ({np.std(v).round(2)})\" if isinstance(v, list) else v for k, v in baseline.items()}\n",
    "baseline_d['name'] = 'baseline'\n",
    "baseline_d['avg'] = np.mean(list(baseline_means.values())[:-1])"
   ]
  },
  {
   "cell_type": "code",
   "execution_count": null,
   "metadata": {},
   "outputs": [],
   "source": [
    "baseline_d"
   ]
  },
  {
   "cell_type": "code",
   "execution_count": null,
   "metadata": {},
   "outputs": [],
   "source": [
    "x_means = [baseline_d]\n",
    "x_p = []\n",
    "for name, path in paths.items():\n",
    "    x = torch.load(path, weights_only=False)\n",
    "\n",
    "    # means = {k: np.mean(v).round(2) if isinstance(v, list) else v for k, v in values.items()}\n",
    "    means = {}\n",
    "    p_values = {}\n",
    "    means['name'] = name\n",
    "    \n",
    "    avg = []\n",
    "    for k, v in x.items():\n",
    "        if isinstance(v, list):\n",
    "            p = round(ttest_rel(v, baseline[k], nan_policy='raise', alternative='greater')[1], 3)\n",
    "            # means[k] = f\"{np.mean(v).round(2)} ({np.std(v).round(2)}) (p={p})\"\n",
    "            means.append({k: f\"{np.mean(v).round(2)} ({np.std(v).round(2)})\"})\n",
    "            p_values.append({k: p})\n",
    "\n",
    "            avg.append(np.mean(v))\n",
    "        else:\n",
    "            means[k] = v\n",
    "            p_values[k] = v\n",
    "    \n",
    "    means['avg'] = np.mean(avg).round(2)\n",
    "    x_means.append(means)\n",
    "    x_p.append(p_values)"
   ]
  },
  {
   "cell_type": "code",
   "execution_count": null,
   "metadata": {},
   "outputs": [],
   "source": [
    "df_means = pd.DataFrame(x_means).sort_values('avg', ascending=False)\n",
    "df_means"
   ]
  },
  {
   "cell_type": "code",
   "execution_count": null,
   "metadata": {},
   "outputs": [],
   "source": [
    "df_p = pd.DataFrame(x_p)"
   ]
  },
  {
   "cell_type": "code",
   "execution_count": null,
   "metadata": {},
   "outputs": [],
   "source": [
    "df_means.to_latex('results/transfer/means.tex', index=False)"
   ]
  }
 ],
 "metadata": {
  "kernelspec": {
   "display_name": "ml",
   "language": "python",
   "name": "python3"
  },
  "language_info": {
   "codemirror_mode": {
    "name": "ipython",
    "version": 3
   },
   "file_extension": ".py",
   "mimetype": "text/x-python",
   "name": "python",
   "nbconvert_exporter": "python",
   "pygments_lexer": "ipython3",
   "version": "3.9.21"
  }
 },
 "nbformat": 4,
 "nbformat_minor": 2
}
