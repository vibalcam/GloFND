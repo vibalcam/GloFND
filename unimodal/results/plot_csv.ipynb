{
 "cells": [
  {
   "cell_type": "code",
   "execution_count": null,
   "metadata": {},
   "outputs": [],
   "source": [
    "import numpy as np\n",
    "import pandas as pd\n",
    "import matplotlib.pyplot as plt\n",
    "import glob"
   ]
  },
  {
   "cell_type": "code",
   "execution_count": null,
   "metadata": {},
   "outputs": [],
   "source": [
    "df_epochs = pd.read_csv('csv/epochs.csv')\n",
    "df_rec = pd.read_csv('csv/recalls.csv')\n",
    "df_prec = pd.read_csv('csv/precisions.csv')"
   ]
  },
  {
   "cell_type": "code",
   "execution_count": null,
   "metadata": {},
   "outputs": [],
   "source": [
    "# remove columns that contain MIN or MAX\n",
    "df_rec = df_rec.loc[:,~df_rec.columns.str.contains('MIN|MAX')]\n",
    "df_prec = df_prec.loc[:,~df_prec.columns.str.contains('MIN|MAX')]\n",
    "df_epochs = df_epochs.loc[:,~df_epochs.columns.str.contains('MIN|MAX')]"
   ]
  },
  {
   "cell_type": "code",
   "execution_count": null,
   "metadata": {},
   "outputs": [],
   "source": [
    "df_rec"
   ]
  },
  {
   "cell_type": "code",
   "execution_count": null,
   "metadata": {},
   "outputs": [],
   "source": [
    "df_epochs.columns = [k if k=='Step' else k.split('_')[2] for k in df_epochs.columns]\n",
    "df_rec.columns = [k if k=='Step' else k.split('_')[2] for k in df_rec.columns]\n",
    "df_prec.columns = [k if k=='Step' else k.split('_')[2] for k in df_prec.columns]"
   ]
  },
  {
   "cell_type": "code",
   "execution_count": null,
   "metadata": {},
   "outputs": [],
   "source": [
    "# combine all columns df epochs into one\n",
    "df_epochs = df_epochs.bfill(axis=1).iloc[:,:2]\n",
    "df_epochs.columns = ['Step', 'epoch']"
   ]
  },
  {
   "cell_type": "code",
   "execution_count": null,
   "metadata": {},
   "outputs": [],
   "source": [
    "df_rec['epoch'] = df_epochs['epoch']\n",
    "df_prec['epoch'] = df_epochs['epoch']"
   ]
  },
  {
   "cell_type": "code",
   "execution_count": null,
   "metadata": {},
   "outputs": [],
   "source": [
    "def f1_score(recall, precision):\n",
    "    return 2 * (precision * recall) / (precision + recall)"
   ]
  },
  {
   "cell_type": "code",
   "execution_count": null,
   "metadata": {},
   "outputs": [],
   "source": [
    "rec_mean = (df_rec.groupby('epoch').mean().groupby(level=0, axis=1).mean() * 100)\n",
    "rec_std = (df_rec.groupby('epoch').mean().groupby(level=0, axis=1).std() * 100)\n",
    "rec_mean.round(2)"
   ]
  },
  {
   "cell_type": "code",
   "execution_count": null,
   "metadata": {},
   "outputs": [],
   "source": [
    "rec_std.round(2)"
   ]
  },
  {
   "cell_type": "code",
   "execution_count": null,
   "metadata": {},
   "outputs": [],
   "source": [
    "prec_mean = (df_prec.groupby('epoch').mean().groupby(level=0, axis=1).mean() * 100)\n",
    "prec_std = (df_prec.groupby('epoch').mean().groupby(level=0, axis=1).std() * 100)\n",
    "prec_mean.round(2)"
   ]
  },
  {
   "cell_type": "code",
   "execution_count": null,
   "metadata": {},
   "outputs": [],
   "source": [
    "prec_std.round(2)"
   ]
  },
  {
   "cell_type": "code",
   "execution_count": null,
   "metadata": {},
   "outputs": [],
   "source": [
    "f1_mean = f1_score(df_rec.groupby('epoch').mean(), df_prec.groupby('epoch').mean()).groupby(level=0, axis=1).mean() * 100\n",
    "f1_std = f1_score(df_rec.groupby('epoch').mean(), df_prec.groupby('epoch').mean()).groupby(level=0, axis=1).std() * 100\n",
    "f1_mean.round(2)"
   ]
  },
  {
   "cell_type": "code",
   "execution_count": null,
   "metadata": {},
   "outputs": [],
   "source": [
    "f1_std.round(2)"
   ]
  },
  {
   "cell_type": "code",
   "execution_count": null,
   "metadata": {},
   "outputs": [],
   "source": [
    "models = ['glofnd', 'fnd', ]\n",
    "new_names = ['GloFND','FNC', ]"
   ]
  },
  {
   "cell_type": "code",
   "execution_count": null,
   "metadata": {},
   "outputs": [],
   "source": [
    "prec_mean = prec_mean[models]\n",
    "rec_mean = rec_mean[models]\n",
    "prec_std = prec_std[models]\n",
    "rec_std = rec_std[models]\n",
    "f1_mean = f1_mean[models]\n",
    "f1_std = f1_std[models]\n",
    "\n",
    "prec_mean.columns = new_names\n",
    "rec_mean.columns = new_names\n",
    "prec_std.columns = new_names\n",
    "rec_std.columns = new_names\n",
    "f1_mean.columns = new_names\n",
    "f1_std.columns = new_names"
   ]
  },
  {
   "cell_type": "code",
   "execution_count": null,
   "metadata": {},
   "outputs": [],
   "source": [
    "label_font = 40\n",
    "tick_font = 35\n",
    "legend_font = 30\n",
    "linewidth = 6"
   ]
  },
  {
   "cell_type": "code",
   "execution_count": null,
   "metadata": {},
   "outputs": [],
   "source": [
    "plt.figure(figsize=(9, 6), dpi=300)\n",
    "\n",
    "for m in new_names:\n",
    "        ax = prec_mean[m].plot(ax=plt.gca(), linewidth=linewidth, marker=None)\n",
    "        # ax.fill_between(prec_mean.index, \n",
    "        #         prec_mean[m] - prec_std[m] * 5, \n",
    "        #         prec_mean[m] + prec_std[m] * 5, \n",
    "        #         alpha=1)  # Shaded std region\n",
    "\n",
    "plt.xlabel('Epoch', fontsize=label_font)\n",
    "plt.ylabel('Precision (%)', fontsize=label_font)\n",
    "plt.xticks(fontsize=32)\n",
    "plt.yticks(fontsize=tick_font)\n",
    "\n",
    "# plt.grid(which='major', axis='y')\n",
    "plt.tight_layout()\n",
    "plt.legend(fontsize=legend_font)\n",
    "\n",
    "plt.axvline(x=83, alpha=0.4, color='r', linestyle='--')\n",
    "plt.axvline(x=87, alpha=0.4, color='r', linestyle='--')\n",
    "ax.axvspan(83, 87, color='red', alpha=0.4)  # Red fill with alpha 0.3\n",
    "\n",
    "plt.savefig(f\"plots/precision.pdf\", format='pdf')"
   ]
  },
  {
   "cell_type": "code",
   "execution_count": null,
   "metadata": {},
   "outputs": [],
   "source": [
    "plt.figure(figsize=(9, 6), dpi=300)\n",
    "\n",
    "for m in new_names:\n",
    "        ax = rec_mean[m].plot(ax=plt.gca(), linewidth=linewidth, marker=None)\n",
    "        # ax.fill_between(prec_mean.index, \n",
    "        #         prec_mean[m] - prec_std[m] * 5, \n",
    "        #         prec_mean[m] + prec_std[m] * 5, \n",
    "        #         alpha=1)  # Shaded std region\n",
    "\n",
    "plt.xlabel('Epoch', fontsize=label_font)\n",
    "plt.ylabel('Recall (%)', fontsize=label_font)\n",
    "plt.xticks(fontsize=32)\n",
    "plt.yticks(fontsize=tick_font)\n",
    "\n",
    "plt.axvline(x=83, alpha=0.4, color='r', linestyle='--')\n",
    "plt.axvline(x=87, alpha=0.4, color='r', linestyle='--')\n",
    "ax.axvspan(83, 87, color='red', alpha=0.4)  # Red fill with alpha 0.3\n",
    "\n",
    "# plt.grid(which='major', axis='y')\n",
    "plt.tight_layout()\n",
    "plt.legend(fontsize=legend_font)\n",
    "\n",
    "plt.savefig(f\"plots/recall.pdf\", format=\"pdf\")"
   ]
  },
  {
   "cell_type": "code",
   "execution_count": null,
   "metadata": {},
   "outputs": [],
   "source": [
    "from sklearn.metrics import auc\n",
    "plt.figure(figsize=(9, 6), dpi=300)\n",
    "\n",
    "for m in new_names:\n",
    "        ax = f1_mean[m].plot(ax=plt.gca(), linewidth=linewidth, marker=None)\n",
    "        # ax.fill_between(prec_mean.index, \n",
    "        #         prec_mean[m] - prec_std[m] * 5, \n",
    "        #         prec_mean[m] + prec_std[m] * 5, \n",
    "        #         alpha=1)  # Shaded std region\n",
    "\n",
    "plt.xlabel('Epoch', fontsize=label_font)\n",
    "plt.ylabel('F1-Score (%)', fontsize=label_font)\n",
    "plt.xticks(fontsize=32)\n",
    "plt.yticks(fontsize=tick_font)\n",
    "\n",
    "plt.axvline(x=83, alpha=0.4, color='r', linestyle='--')\n",
    "plt.axvline(x=87, alpha=0.4, color='r', linestyle='--')\n",
    "ax.axvspan(83, 87, color='red', alpha=0.4)  # Red fill with alpha 0.3\n",
    "\n",
    "# plt.grid(which='major', axis='y')\n",
    "plt.tight_layout()\n",
    "plt.legend(fontsize=legend_font)\n",
    "\n",
    "plt.savefig(f\"plots/f1.pdf\", format=\"pdf\")"
   ]
  },
  {
   "cell_type": "code",
   "execution_count": null,
   "metadata": {},
   "outputs": [],
   "source": [
    "(f1_mean['FNC'] > f1_mean['GloFND']).to_numpy()"
   ]
  },
  {
   "cell_type": "code",
   "execution_count": null,
   "metadata": {},
   "outputs": [],
   "source": [
    "(f1_mean['GloFND'] - f1_mean['FNC']).mean()"
   ]
  },
  {
   "cell_type": "code",
   "execution_count": null,
   "metadata": {},
   "outputs": [],
   "source": [
    "x = f1_mean.loc[120:].to_numpy()\n",
    "x[:,1] *= -1\n",
    "diff = x.sum(1)\n",
    "diff"
   ]
  },
  {
   "cell_type": "code",
   "execution_count": null,
   "metadata": {},
   "outputs": [],
   "source": [
    "print(f\"Max {diff.max()}, min {diff.min()}, mean {diff.mean()}\")"
   ]
  },
  {
   "cell_type": "code",
   "execution_count": null,
   "metadata": {},
   "outputs": [],
   "source": []
  }
 ],
 "metadata": {
  "kernelspec": {
   "display_name": "fastclip",
   "language": "python",
   "name": "python3"
  },
  "language_info": {
   "codemirror_mode": {
    "name": "ipython",
    "version": 3
   },
   "file_extension": ".py",
   "mimetype": "text/x-python",
   "name": "python",
   "nbconvert_exporter": "python",
   "pygments_lexer": "ipython3",
   "version": "3.11.10"
  }
 },
 "nbformat": 4,
 "nbformat_minor": 2
}
